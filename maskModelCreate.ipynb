{
 "cells": [
  {
   "cell_type": "code",
   "execution_count": 1,
   "id": "0fc5c459",
   "metadata": {},
   "outputs": [],
   "source": [
    "import tensorflow as tf\n",
    "from tensorflow.keras import models,layers\n",
    "\n",
    "IMAGE_SIZE=256\n",
    "BATCH_SIZE=32\n"
   ]
  },
  {
   "cell_type": "code",
   "execution_count": 2,
   "id": "a99a68ec",
   "metadata": {},
   "outputs": [
    {
     "name": "stdout",
     "output_type": "stream",
     "text": [
      "Found 3833 files belonging to 2 classes.\n"
     ]
    }
   ],
   "source": [
    "dataset=tf.keras.preprocessing.image_dataset_from_directory(\n",
    "    \"dataset\",\n",
    "    shuffle=True,\n",
    "    image_size=(IMAGE_SIZE,IMAGE_SIZE),\n",
    "    batch_size=BATCH_SIZE\n",
    ")\n"
   ]
  },
  {
   "cell_type": "code",
   "execution_count": 3,
   "id": "b1d7166f",
   "metadata": {},
   "outputs": [
    {
     "data": {
      "text/plain": [
       "['with_mask', 'without_mask']"
      ]
     },
     "execution_count": 3,
     "metadata": {},
     "output_type": "execute_result"
    }
   ],
   "source": [
    "class_name=dataset.class_names\n",
    "class_name"
   ]
  },
  {
   "cell_type": "code",
   "execution_count": 4,
   "id": "a66567b7",
   "metadata": {},
   "outputs": [],
   "source": [
    "# for image_batch, label_batch in dataset.take(1):\n",
    "\n",
    "# test and validation split\n",
    "# 80% training , 10% test 10%  \n"
   ]
  },
  {
   "cell_type": "code",
   "execution_count": 18,
   "id": "f7731412",
   "metadata": {},
   "outputs": [],
   "source": [
    "def get_dataset_partitions(ds,train_split=0.8,val_split=0.1,test_split=0.1,shuffle = True , shuffle_size=1000):\n",
    "    ds_size = len(ds)\n",
    "    if shuffle:\n",
    "        ds.shuffle(shuffle_size,seed=12)\n",
    "    #sizes\n",
    "    train_size = int(train_split*ds_size)\n",
    "    val_size=int(val_split*ds_size)\n",
    "    #datasets\n",
    "    train_ds=dataset.take(train_size)\n",
    "    val_ds=ds.skip(train_size).take(val_size)\n",
    "    test_ds=ds.skip(train_size).skip(val_size)\n",
    "    \n",
    "    return train_ds , val_ds , test_ds\n"
   ]
  },
  {
   "cell_type": "code",
   "execution_count": 19,
   "id": "22e9dc29",
   "metadata": {},
   "outputs": [],
   "source": [
    "train_ds,val_ds,test_ds = get_dataset_partitions(dataset)"
   ]
  },
  {
   "cell_type": "code",
   "execution_count": 21,
   "id": "b8f33997",
   "metadata": {},
   "outputs": [],
   "source": [
    "train_ds=train_ds.cache().shuffle(1000).prefetch(buffer_size=tf.data.AUTOTUNE)\n",
    "val_ds=val_ds=train_ds.cache().shuffle(1000).prefetch(buffer_size=tf.data.AUTOTUNE)\n",
    "test_ds=test_ds=train_ds.cache().shuffle(1000).prefetch(buffer_size=tf.data.AUTOTUNE)"
   ]
  },
  {
   "cell_type": "markdown",
   "id": "bda9c0d3",
   "metadata": {},
   "source": [
    "Resize and rescale"
   ]
  },
  {
   "cell_type": "code",
   "execution_count": 22,
   "id": "df48405a",
   "metadata": {},
   "outputs": [],
   "source": [
    "resize_and_rescale=tf.keras.Sequential(\n",
    "    [\n",
    "        layers.experimental.preprocessing.Resizing(IMAGE_SIZE,IMAGE_SIZE),\n",
    "        layers.experimental.preprocessing.Rescaling(0.1/255)\n",
    "    ]\n",
    ")"
   ]
  },
  {
   "cell_type": "markdown",
   "id": "4c8994f8",
   "metadata": {},
   "source": [
    "Data Augmentation"
   ]
  },
  {
   "cell_type": "code",
   "execution_count": 23,
   "id": "16b250c7",
   "metadata": {},
   "outputs": [],
   "source": [
    "data_augmentation = tf.keras.Sequential([\n",
    "    layers.experimental.preprocessing.RandomFlip(\"horizontal_and_vertical\"),\n",
    "    layers.experimental.preprocessing.RandomRotation(0.2)\n",
    "])"
   ]
  },
  {
   "cell_type": "code",
   "execution_count": 24,
   "id": "9883978a",
   "metadata": {},
   "outputs": [],
   "source": [
    "input_shape=(BATCH_SIZE,IMAGE_SIZE,IMAGE_SIZE,3)\n",
    "model=models.Sequential([\n",
    "    resize_and_rescale,\n",
    "    data_augmentation,\n",
    "    layers.Conv2D(32,(3,3),activation='relu',input_shape=input_shape),\n",
    "    layers.MaxPool2D((2,2)),\n",
    "    layers.Conv2D(64,kernel_size=(3,3),activation='relu'),\n",
    "    layers.MaxPool2D((2,2)),\n",
    "    layers.Conv2D(64,kernel_size=(3,3),activation='relu'),\n",
    "    layers.MaxPool2D((2,2)),\n",
    "    layers.Conv2D(64,(3,3),activation='relu'),\n",
    "    layers.MaxPool2D((2,2)),\n",
    "    layers.Conv2D(64,(3,3),activation='relu'),\n",
    "    layers.MaxPool2D((2,2)),\n",
    "    layers.Conv2D(64,(3,3),activation='relu'),\n",
    "    layers.MaxPool2D((2,2)),\n",
    "    layers.Flatten(),\n",
    "    layers.Dense(64,activation='relu'),\n",
    "    layers.Dense(3,activation='softmax')\n",
    "])\n",
    "model.build(input_shape=input_shape)"
   ]
  },
  {
   "cell_type": "code",
   "execution_count": 25,
   "id": "4e0f038a",
   "metadata": {},
   "outputs": [
    {
     "name": "stdout",
     "output_type": "stream",
     "text": [
      "Model: \"sequential_2\"\n",
      "_________________________________________________________________\n",
      "Layer (type)                 Output Shape              Param #   \n",
      "=================================================================\n",
      "sequential (Sequential)      (32, 256, 256, 3)         0         \n",
      "_________________________________________________________________\n",
      "sequential_1 (Sequential)    (32, 256, 256, 3)         0         \n",
      "_________________________________________________________________\n",
      "conv2d (Conv2D)              (32, 254, 254, 32)        896       \n",
      "_________________________________________________________________\n",
      "max_pooling2d (MaxPooling2D) (32, 127, 127, 32)        0         \n",
      "_________________________________________________________________\n",
      "conv2d_1 (Conv2D)            (32, 125, 125, 64)        18496     \n",
      "_________________________________________________________________\n",
      "max_pooling2d_1 (MaxPooling2 (32, 62, 62, 64)          0         \n",
      "_________________________________________________________________\n",
      "conv2d_2 (Conv2D)            (32, 60, 60, 64)          36928     \n",
      "_________________________________________________________________\n",
      "max_pooling2d_2 (MaxPooling2 (32, 30, 30, 64)          0         \n",
      "_________________________________________________________________\n",
      "conv2d_3 (Conv2D)            (32, 28, 28, 64)          36928     \n",
      "_________________________________________________________________\n",
      "max_pooling2d_3 (MaxPooling2 (32, 14, 14, 64)          0         \n",
      "_________________________________________________________________\n",
      "conv2d_4 (Conv2D)            (32, 12, 12, 64)          36928     \n",
      "_________________________________________________________________\n",
      "max_pooling2d_4 (MaxPooling2 (32, 6, 6, 64)            0         \n",
      "_________________________________________________________________\n",
      "conv2d_5 (Conv2D)            (32, 4, 4, 64)            36928     \n",
      "_________________________________________________________________\n",
      "max_pooling2d_5 (MaxPooling2 (32, 2, 2, 64)            0         \n",
      "_________________________________________________________________\n",
      "flatten (Flatten)            (32, 256)                 0         \n",
      "_________________________________________________________________\n",
      "dense (Dense)                (32, 64)                  16448     \n",
      "_________________________________________________________________\n",
      "dense_1 (Dense)              (32, 3)                   195       \n",
      "=================================================================\n",
      "Total params: 183,747\n",
      "Trainable params: 183,747\n",
      "Non-trainable params: 0\n",
      "_________________________________________________________________\n"
     ]
    }
   ],
   "source": [
    "model.summary()"
   ]
  },
  {
   "cell_type": "code",
   "execution_count": 26,
   "id": "81cca1ef",
   "metadata": {},
   "outputs": [],
   "source": [
    "model.compile(\n",
    "    optimizer='adam',\n",
    "    loss=tf.keras.losses.SparseCategoricalCrossentropy(from_logits=False),\n",
    "    metrics=['accuracy']\n",
    "    \n",
    ")"
   ]
  },
  {
   "cell_type": "code",
   "execution_count": 27,
   "id": "870b2667",
   "metadata": {},
   "outputs": [
    {
     "name": "stdout",
     "output_type": "stream",
     "text": [
      "Epoch 1/20\n",
      "96/96 [==============================] - 608s 3s/step - loss: 0.7305 - accuracy: 0.5055 - val_loss: 0.6905 - val_accuracy: 0.4935\n",
      "Epoch 2/20\n",
      "96/96 [==============================] - 198s 2s/step - loss: 0.6175 - accuracy: 0.6296 - val_loss: 0.4088 - val_accuracy: 0.8258\n",
      "Epoch 3/20\n",
      "96/96 [==============================] - 274s 3s/step - loss: 0.3043 - accuracy: 0.8854 - val_loss: 0.3537 - val_accuracy: 0.8675\n",
      "Epoch 4/20\n",
      "96/96 [==============================] - 163s 2s/step - loss: 0.2917 - accuracy: 0.8841 - val_loss: 0.3145 - val_accuracy: 0.8675\n",
      "Epoch 5/20\n",
      "96/96 [==============================] - 295s 3s/step - loss: 0.2706 - accuracy: 0.9033 - val_loss: 0.2436 - val_accuracy: 0.9066\n",
      "Epoch 6/20\n",
      "96/96 [==============================] - 181s 2s/step - loss: 0.2651 - accuracy: 0.9033 - val_loss: 0.2859 - val_accuracy: 0.8929\n",
      "Epoch 7/20\n",
      "96/96 [==============================] - 161s 2s/step - loss: 0.2813 - accuracy: 0.8926 - val_loss: 0.2569 - val_accuracy: 0.9066\n",
      "Epoch 8/20\n",
      "96/96 [==============================] - 173s 2s/step - loss: 0.2635 - accuracy: 0.9014 - val_loss: 0.2218 - val_accuracy: 0.9215\n",
      "Epoch 9/20\n",
      "96/96 [==============================] - 220s 2s/step - loss: 0.2371 - accuracy: 0.9089 - val_loss: 0.2427 - val_accuracy: 0.9046\n",
      "Epoch 10/20\n",
      "96/96 [==============================] - 134s 1s/step - loss: 0.2401 - accuracy: 0.9095 - val_loss: 0.2385 - val_accuracy: 0.9095\n",
      "Epoch 11/20\n",
      "96/96 [==============================] - 156s 2s/step - loss: 0.2370 - accuracy: 0.9118 - val_loss: 0.2120 - val_accuracy: 0.9167\n",
      "Epoch 12/20\n",
      "96/96 [==============================] - 112s 1s/step - loss: 0.2294 - accuracy: 0.9131 - val_loss: 0.2143 - val_accuracy: 0.9160\n",
      "Epoch 13/20\n",
      "96/96 [==============================] - 177s 2s/step - loss: 0.2395 - accuracy: 0.9079 - val_loss: 0.2107 - val_accuracy: 0.9206\n",
      "Epoch 14/20\n",
      "96/96 [==============================] - 134s 1s/step - loss: 0.2265 - accuracy: 0.9131 - val_loss: 0.2384 - val_accuracy: 0.8971\n",
      "Epoch 15/20\n",
      "96/96 [==============================] - 175s 2s/step - loss: 0.2330 - accuracy: 0.9076 - val_loss: 0.2071 - val_accuracy: 0.9189\n",
      "Epoch 16/20\n",
      "96/96 [==============================] - 161s 2s/step - loss: 0.2204 - accuracy: 0.9160 - val_loss: 0.1896 - val_accuracy: 0.9303\n",
      "Epoch 17/20\n",
      "96/96 [==============================] - 170s 2s/step - loss: 0.2206 - accuracy: 0.9115 - val_loss: 0.1859 - val_accuracy: 0.9297\n",
      "Epoch 18/20\n",
      "96/96 [==============================] - 176s 2s/step - loss: 0.2056 - accuracy: 0.9209 - val_loss: 0.1998 - val_accuracy: 0.9229\n",
      "Epoch 19/20\n",
      "96/96 [==============================] - 130s 1s/step - loss: 0.2059 - accuracy: 0.9154 - val_loss: 0.2299 - val_accuracy: 0.9128\n",
      "Epoch 20/20\n",
      "96/96 [==============================] - 170s 2s/step - loss: 0.2104 - accuracy: 0.9202 - val_loss: 0.1889 - val_accuracy: 0.9329\n"
     ]
    },
    {
     "data": {
      "text/plain": [
       "<keras.callbacks.History at 0x5f21cf7910>"
      ]
     },
     "execution_count": 27,
     "metadata": {},
     "output_type": "execute_result"
    }
   ],
   "source": [
    "model.fit(train_ds,epochs=20,batch_size=BATCH_SIZE,verbose=1,validation_data=val_ds)"
   ]
  },
  {
   "cell_type": "code",
   "execution_count": 28,
   "id": "f8bc853e",
   "metadata": {},
   "outputs": [],
   "source": [
    "import os.path"
   ]
  },
  {
   "cell_type": "code",
   "execution_count": 29,
   "id": "f25e4fcd",
   "metadata": {},
   "outputs": [],
   "source": [
    "if os.path.isfile('models/maskModel.h5') is False:\n",
    "    model.save('models/maskModel.h5')"
   ]
  },
  {
   "cell_type": "code",
   "execution_count": 31,
   "id": "676a70b1",
   "metadata": {},
   "outputs": [],
   "source": [
    "from tensorflow.keras.models import load_model\n",
    "newModel=load_model('models/maskModel.h5')"
   ]
  },
  {
   "cell_type": "code",
   "execution_count": 32,
   "id": "5b5270c4",
   "metadata": {},
   "outputs": [
    {
     "data": {
      "text/plain": [
       "<keras.engine.sequential.Sequential at 0x5f21794610>"
      ]
     },
     "execution_count": 32,
     "metadata": {},
     "output_type": "execute_result"
    }
   ],
   "source": [
    "newModel"
   ]
  },
  {
   "cell_type": "code",
   "execution_count": 33,
   "id": "84a6f534",
   "metadata": {},
   "outputs": [
    {
     "data": {
      "text/plain": [
       "<keras.engine.sequential.Sequential at 0x5f21794430>"
      ]
     },
     "execution_count": 33,
     "metadata": {},
     "output_type": "execute_result"
    }
   ],
   "source": [
    "model"
   ]
  },
  {
   "cell_type": "code",
   "execution_count": null,
   "id": "3d1e19ed",
   "metadata": {},
   "outputs": [],
   "source": []
  }
 ],
 "metadata": {
  "interpreter": {
   "hash": "5b61cb334c4f937f4549a0621b7b60b019c38e298f5c712eb1a4b35b8ac1681b"
  },
  "kernelspec": {
   "display_name": "Python 3.9.4 64-bit",
   "name": "python3"
  },
  "language_info": {
   "codemirror_mode": {
    "name": "ipython",
    "version": 3
   },
   "file_extension": ".py",
   "mimetype": "text/x-python",
   "name": "python",
   "nbconvert_exporter": "python",
   "pygments_lexer": "ipython3",
   "version": "3.9.4"
  }
 },
 "nbformat": 4,
 "nbformat_minor": 5
}
